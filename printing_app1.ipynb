{
 "cells": [
  {
   "cell_type": "code",
   "id": "initial_id",
   "metadata": {
    "collapsed": true,
    "ExecuteTime": {
     "end_time": "2025-06-08T17:40:17.938705Z",
     "start_time": "2025-06-08T17:40:17.657303Z"
    }
   },
   "source": [
    "import tkinter as tk\n",
    "from tkinter import messagebox, ttk\n",
    "import csv\n",
    "import mysql.connector as sql\n",
    "from PIL import Image, ImageTk\n",
    "import pygame"
   ],
   "outputs": [
    {
     "name": "stdout",
     "output_type": "stream",
     "text": [
      "pygame 2.6.1 (SDL 2.28.4, Python 3.11.9)\n",
      "Hello from the pygame community. https://www.pygame.org/contribute.html\n"
     ]
    }
   ],
   "execution_count": 1
  },
  {
   "metadata": {},
   "cell_type": "markdown",
   "source": "Login Window",
   "id": "1bdb3bf643e429ec"
  },
  {
   "metadata": {
    "ExecuteTime": {
     "end_time": "2025-06-08T17:40:18.328405Z",
     "start_time": "2025-06-08T17:40:18.318390Z"
    }
   },
   "cell_type": "code",
   "source": [
    "class LoginWindow:\n",
    "    def __init__(self, root, on_successful_login):\n",
    "        self.root = root\n",
    "        self.root.title(\"Login to Swiggy Restaurant Data\")\n",
    "        self.on_successful_login = on_successful_login\n",
    "\n",
    "        # Load and set background image\n",
    "        try:\n",
    "            self.bg_image = ImageTk.PhotoImage(Image.open(\"bg_LOGIN.jpg\").resize((1280, 720), Image.Resampling.LANCZOS))\n",
    "            self.bg_label = tk.Label(self.root, image=self.bg_image)\n",
    "            self.bg_label.place(x=0, y=0, relwidth=1, relheight=1)\n",
    "        except Exception as e:\n",
    "            messagebox.showerror(\"Error\", f\"Failed to load background image: {e}\")\n",
    "\n",
    "        # Create the login frame\n",
    "        self.login_frame = tk.Frame(self.root, bg='white')\n",
    "        self.login_frame.pack(padx=10, pady=175)\n",
    "\n",
    "        # Username field\n",
    "        tk.Label(self.login_frame, text=\"Username:\", bg='white').grid(row=0, column=0, padx=5, pady=5)\n",
    "        self.username_entry = tk.Entry(self.login_frame)\n",
    "        self.username_entry.grid(row=0, column=1, padx=5, pady=5)\n",
    "\n",
    "        # Password field\n",
    "        tk.Label(self.login_frame, text=\"Password:\", bg='white').grid(row=1, column=0, padx=5, pady=5)\n",
    "        self.password_entry = tk.Entry(self.login_frame, show=\"*\")\n",
    "        self.password_entry.grid(row=1, column=1, padx=5, pady=5)\n",
    "\n",
    "        # Login button\n",
    "        tk.Button(self.login_frame, text=\"Login\", command=self.attempt_login).grid(row=2, column=0, columnspan=2, pady=10)\n",
    "\n",
    "        # Set window close protocol\n",
    "        self.root.protocol(\"WM_DELETE_WINDOW\", self.root.destroy)\n",
    "\n",
    "    def attempt_login(self):\n",
    "        username = self.username_entry.get()\n",
    "        password = self.password_entry.get()\n",
    "\n",
    "        # Read credentials from CSV file\n",
    "        credentials = {}\n",
    "        try:\n",
    "            with open(\"credentials.csv\", \"r\") as file:\n",
    "                csv_reader = csv.DictReader(file)\n",
    "                for row in csv_reader:\n",
    "                    credentials[row[\"user\"]] = row[\"password\"]\n",
    "        except FileNotFoundError:\n",
    "            messagebox.showerror(\"Error\", \"credentials.csv file not found.\")\n",
    "            self.root.quit()\n",
    "            return\n",
    "        except Exception as e:\n",
    "            messagebox.showerror(\"Error\", f\"Failed to read credentials: {e}\")\n",
    "            self.root.quit()\n",
    "            return\n",
    "\n",
    "        # Check if the username and password match\n",
    "        if username in credentials and credentials[username] == password:\n",
    "            self.login_frame.destroy()\n",
    "            self.on_successful_login(username, password)\n",
    "        else:\n",
    "            messagebox.showerror(\"Login Failed\", \"Invalid username or password.\")"
   ],
   "id": "70dc2da396902d7",
   "outputs": [],
   "execution_count": 2
  },
  {
   "metadata": {},
   "cell_type": "markdown",
   "source": "All Queries",
   "id": "faffa57a7973c3da"
  },
  {
   "metadata": {
    "ExecuteTime": {
     "end_time": "2025-06-08T17:40:18.348427Z",
     "start_time": "2025-06-08T17:40:18.340818Z"
    }
   },
   "cell_type": "code",
   "source": [
    "class SwiggyApp:\n",
    "    def __init__(self, root, username, password, show_login):\n",
    "        self.root = root\n",
    "        self.root.title(\"SWIGGY DATA ANALYSIS\")\n",
    "        self.show_login = show_login\n",
    "\n",
    "        self.bg_image = ImageTk.PhotoImage(Image.open(\"bg.JPG\").resize((1280, 720), Image.Resampling.LANCZOS))\n",
    "        self.bg_label = tk.Label(self.root, image=self.bg_image)\n",
    "        self.bg_label.place(x=0, y=0, relwidth=1, relheight=1)\n",
    "\n",
    "        try:\n",
    "            self.mydb = sql.connect(\n",
    "                host=\"192.168.194.204\",\n",
    "                user=\"sagnik\",\n",
    "                password=\"remote\",\n",
    "                database=\"swiggy_python\",\n",
    "                port=\"3306\"\n",
    "            )\n",
    "            self.mycursor = self.mydb.cursor()\n",
    "        except sql.Error as e:\n",
    "            messagebox.showerror(\"Database Error\", f\"Failed to connect to database: {e}\")\n",
    "            self.show_login()\n",
    "            return\n",
    "\n",
    "        self.main_frame = tk.Frame(self.root, bg='white')\n",
    "        self.main_frame.pack(padx=10, pady=150)\n",
    "\n",
    "        tables = ['CITY_DIM', 'TABLE_BOOKING', 'CUISINES', 'DELIVERY', 'FACT_SWIGGY', 'LOCALITY_DIM', 'RATINGS', 'RESTAURANT']\n",
    "\n",
    "        for table in tables:\n",
    "            tk.Button(self.main_frame, text=table, command=lambda t=table: self.display_table(t)).pack(fill='x')\n",
    "\n",
    "        tk.Button(self.main_frame, text=\"Logout\", command=self.logout).pack(fill='x', pady=5)\n",
    "\n",
    "        # Initialize and play background music\n",
    "        try:\n",
    "            pygame.mixer.init()\n",
    "            pygame.mixer.music.load(\"background_music.mp3\")\n",
    "            pygame.mixer.music.set_volume(0.5) # volume\n",
    "            pygame.mixer.music.play(-1) # Loop indefinitely\n",
    "        except Exception as e:\n",
    "            messagebox.showerror(\"Music Error\", f\"Failed to load or play music: {e}\")\n",
    "\n",
    "        # Set window close protocol\n",
    "        self.root.protocol(\"WM_DELETE_WINDOW\", self.on_close)\n",
    "\n",
    "    def display_table(self, table_name):\n",
    "        ResultsWindow(self, table_name)\n",
    "\n",
    "    def logout(self):\n",
    "        try:\n",
    "            pygame.mixer.music.stop()\n",
    "        except:\n",
    "            pass\n",
    "        self.close_connection()\n",
    "        self.main_frame.destroy()\n",
    "        self.show_login()\n",
    "\n",
    "    def close_connection(self):\n",
    "        if hasattr(self, 'mydb') and self.mydb.is_connected():\n",
    "            self.mydb.close()\n",
    "            self.mycursor.close()\n",
    "\n",
    "    def on_close(self):\n",
    "        try:\n",
    "            pygame.mixer.music.stop()\n",
    "        except:\n",
    "            pass\n",
    "        self.close_connection()\n",
    "        self.root.destroy()"
   ],
   "id": "83cf03adb95b69ac",
   "outputs": [],
   "execution_count": 3
  },
  {
   "metadata": {},
   "cell_type": "markdown",
   "source": "Output Window",
   "id": "5d4bdf297262783e"
  },
  {
   "metadata": {
    "ExecuteTime": {
     "end_time": "2025-06-08T17:40:18.436649Z",
     "start_time": "2025-06-08T17:40:18.428636Z"
    }
   },
   "cell_type": "code",
   "source": [
    "class ResultsWindow(tk.Toplevel):\n",
    "    def __init__(self, main_app, table_name):\n",
    "        tk.Toplevel.__init__(self)\n",
    "        self.main_app = main_app\n",
    "        self.title(f\"{table_name} Table\")\n",
    "\n",
    "        self.bg_image = ImageTk.PhotoImage(Image.open(\"bg.JPG\").resize((1280, 720), Image.Resampling.LANCZOS))\n",
    "        self.bg_label = tk.Label(self, image=self.bg_image)\n",
    "        self.bg_label.place(x=0, y=0, relwidth=1, relheight=1)\n",
    "\n",
    "        try:\n",
    "            self.main_app.mycursor.execute(f\"SELECT * FROM {table_name}\")\n",
    "            result = self.main_app.mycursor.fetchall()\n",
    "            columns = [desc[0] for desc in self.main_app.mycursor.description]\n",
    "\n",
    "            tree_frame = tk.Frame(self, bg='white')\n",
    "            tree_frame.pack(expand=True, fill='both')\n",
    "\n",
    "            tree = ttk.Treeview(tree_frame, columns=columns, show='headings')\n",
    "            for col in columns:\n",
    "                tree.heading(col, text=col)\n",
    "                tree.column(col, width=100)\n",
    "\n",
    "            for row in result:\n",
    "                tree.insert('', 'end', values=row)\n",
    "\n",
    "            scrollbar = tk.Scrollbar(tree_frame, orient=\"vertical\", command=tree.yview)\n",
    "            tree.configure(yscrollcommand=scrollbar.set)\n",
    "            tree.pack(side='left', expand=True, fill='both')\n",
    "            scrollbar.pack(side='right', fill='y')\n",
    "\n",
    "        except sql.Error as e:\n",
    "            messagebox.showerror(\"Query Error\", f\"Failed to execute query: {e}\")\n",
    "            self.destroy()\n",
    "            self.main_app.show_main_window()\n",
    "            return\n",
    "\n",
    "        back_button = tk.Button(self, text=\"Back\", command=self.go_back)\n",
    "        back_button.pack(pady=10)\n",
    "\n",
    "        self.protocol(\"WM_DELETE_WINDOW\", self.go_back)\n",
    "\n",
    "    def go_back(self):\n",
    "        self.destroy()\n",
    "        self.main_app.show_main_window()"
   ],
   "id": "fb3f513de66e1dea",
   "outputs": [],
   "execution_count": 4
  },
  {
   "metadata": {},
   "cell_type": "markdown",
   "source": "Main Function",
   "id": "b4055fd7513a6165"
  },
  {
   "metadata": {
    "ExecuteTime": {
     "end_time": "2025-06-08T17:40:18.468808Z",
     "start_time": "2025-06-08T17:40:18.465770Z"
    }
   },
   "cell_type": "code",
   "source": [
    "def main():\n",
    "    root = tk.Tk()\n",
    "    root.geometry(\"1280x720\")\n",
    "\n",
    "    def show_login():\n",
    "        for widget in root.winfo_children():\n",
    "            widget.destroy()\n",
    "        LoginWindow(root, lambda username, password: SwiggyApp(root, username, password, show_login))\n",
    "\n",
    "    show_login()\n",
    "\n",
    "    root.mainloop()"
   ],
   "id": "bee27bb81574a9a7",
   "outputs": [],
   "execution_count": 5
  },
  {
   "metadata": {
    "ExecuteTime": {
     "end_time": "2025-06-08T17:41:07.153640Z",
     "start_time": "2025-06-08T17:40:18.490846Z"
    }
   },
   "cell_type": "code",
   "source": [
    "if __name__ == \"__main__\":\n",
    "    main()"
   ],
   "id": "6b11ce67f60ee118",
   "outputs": [
    {
     "name": "stderr",
     "output_type": "stream",
     "text": [
      "Exception in Tkinter callback\n",
      "Traceback (most recent call last):\n",
      "  File \"C:\\Users\\sagni\\AppData\\Local\\Programs\\Python\\Python311\\Lib\\tkinter\\__init__.py\", line 1967, in __call__\n",
      "    return self.func(*args)\n",
      "           ^^^^^^^^^^^^^^^^\n",
      "  File \"C:\\Users\\sagni\\AppData\\Local\\Temp\\ipykernel_5116\\2393707586.py\", line 45, in go_back\n",
      "    self.main_app.show_main_window()\n",
      "    ^^^^^^^^^^^^^^^^^^^^^^^^^^^^^^\n",
      "AttributeError: 'SwiggyApp' object has no attribute 'show_main_window'\n",
      "Exception in Tkinter callback\n",
      "Traceback (most recent call last):\n",
      "  File \"C:\\Users\\sagni\\AppData\\Local\\Programs\\Python\\Python311\\Lib\\tkinter\\__init__.py\", line 1967, in __call__\n",
      "    return self.func(*args)\n",
      "           ^^^^^^^^^^^^^^^^\n",
      "  File \"C:\\Users\\sagni\\AppData\\Local\\Temp\\ipykernel_5116\\2393707586.py\", line 45, in go_back\n",
      "    self.main_app.show_main_window()\n",
      "    ^^^^^^^^^^^^^^^^^^^^^^^^^^^^^^\n",
      "AttributeError: 'SwiggyApp' object has no attribute 'show_main_window'\n",
      "Exception in Tkinter callback\n",
      "Traceback (most recent call last):\n",
      "  File \"C:\\Users\\sagni\\AppData\\Local\\Programs\\Python\\Python311\\Lib\\tkinter\\__init__.py\", line 1967, in __call__\n",
      "    return self.func(*args)\n",
      "           ^^^^^^^^^^^^^^^^\n",
      "  File \"C:\\Users\\sagni\\AppData\\Local\\Temp\\ipykernel_5116\\2393707586.py\", line 45, in go_back\n",
      "    self.main_app.show_main_window()\n",
      "    ^^^^^^^^^^^^^^^^^^^^^^^^^^^^^^\n",
      "AttributeError: 'SwiggyApp' object has no attribute 'show_main_window'\n",
      "Exception in Tkinter callback\n",
      "Traceback (most recent call last):\n",
      "  File \"C:\\Users\\sagni\\AppData\\Local\\Programs\\Python\\Python311\\Lib\\tkinter\\__init__.py\", line 1967, in __call__\n",
      "    return self.func(*args)\n",
      "           ^^^^^^^^^^^^^^^^\n",
      "  File \"C:\\Users\\sagni\\AppData\\Local\\Temp\\ipykernel_5116\\2393707586.py\", line 45, in go_back\n",
      "    self.main_app.show_main_window()\n",
      "    ^^^^^^^^^^^^^^^^^^^^^^^^^^^^^^\n",
      "AttributeError: 'SwiggyApp' object has no attribute 'show_main_window'\n"
     ]
    }
   ],
   "execution_count": 6
  }
 ],
 "metadata": {
  "kernelspec": {
   "display_name": "Python 3",
   "language": "python",
   "name": "python3"
  },
  "language_info": {
   "codemirror_mode": {
    "name": "ipython",
    "version": 2
   },
   "file_extension": ".py",
   "mimetype": "text/x-python",
   "name": "python",
   "nbconvert_exporter": "python",
   "pygments_lexer": "ipython2",
   "version": "2.7.6"
  }
 },
 "nbformat": 4,
 "nbformat_minor": 5
}
