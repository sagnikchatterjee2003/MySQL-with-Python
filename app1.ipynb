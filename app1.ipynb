{
 "cells": [
  {
   "cell_type": "code",
   "id": "initial_id",
   "metadata": {
    "collapsed": true,
    "ExecuteTime": {
     "end_time": "2025-06-06T06:59:33.825861Z",
     "start_time": "2025-06-06T06:59:33.774459Z"
    }
   },
   "source": [
    "import tkinter as tk\n",
    "from tkinter import ttk\n",
    "from tkinter import messagebox\n",
    "import mysql.connector as sql"
   ],
   "outputs": [],
   "execution_count": 1
  },
  {
   "metadata": {},
   "cell_type": "markdown",
   "source": "All Queries",
   "id": "8af28dc66004d35d"
  },
  {
   "metadata": {
    "ExecuteTime": {
     "end_time": "2025-06-06T06:59:34.029609Z",
     "start_time": "2025-06-06T06:59:34.019276Z"
    }
   },
   "cell_type": "code",
   "source": [
    "class SwiggyApp:\n",
    "    def __init__(self, root):\n",
    "        self.root = root\n",
    "        self.root.title(\"Swiggy Restaurant Data\")\n",
    "\n",
    "        # Attempt to connect to the MySQL database\n",
    "        try:\n",
    "            self.mydb = sql.connect(\n",
    "                host=\"192.168.194.204\",\n",
    "                user=\"sagnik\",\n",
    "                passwd=\"remote\",\n",
    "                database=\"swiggy_python\",\n",
    "                port=\"3306\"\n",
    "            )\n",
    "            self.mycursor = self.mydb.cursor()\n",
    "        except sql.Error as e:\n",
    "            messagebox.showerror(\"Database Error\", f\"Failed to connect to database: {e}\")\n",
    "            self.root.quit()\n",
    "            return\n",
    "\n",
    "        # Create the main frame and label\n",
    "        self.main_frame = tk.Frame(self.root)\n",
    "        self.main_frame.pack(padx=10, pady=10)\n",
    "\n",
    "        tk.Label(self.main_frame, text=\"Select a query:\").pack()\n",
    "\n",
    "        # Add buttons for each query\n",
    "        tk.Button(self.main_frame, text=\"City-wise Restaurant Count\", command=self.query1).pack(fill='x')\n",
    "        tk.Button(self.main_frame, text=\"Top 10 Restaurants by Avg Cost for 2\", command=self.query2).pack(fill='x')\n",
    "        tk.Button(self.main_frame, text=\"Top 10 Restaurants by Avg Votes\", command=self.query3).pack(fill='x')\n",
    "        tk.Button(self.main_frame, text=\"Top 10 Restaurants by Rating\", command=self.query4).pack(fill='x')\n",
    "        tk.Button(self.main_frame, text=\"Rating by Delivery Availability\", command=self.query5).pack(fill='x')\n",
    "        tk.Button(self.main_frame, text=\"Avg Cost for 2 by Cuisine\", command=self.query6).pack(fill='x')\n",
    "\n",
    "    def show_main_window(self):\n",
    "        self.root.deiconify()\n",
    "\n",
    "    def query1(self):\n",
    "        self.root.withdraw()\n",
    "        title = \"City-wise Restaurant Count\"\n",
    "        sql_query = \"SELECT City, COUNT(*) AS Count FROM swiggy_source GROUP BY City ORDER BY Count DESC\"\n",
    "        columns = [\"City\", \"Count\"]\n",
    "        widths = [15, 10]\n",
    "        self.execute_query(title, sql_query, columns, widths)\n",
    "\n",
    "    def query2(self):\n",
    "        self.root.withdraw()\n",
    "        title = \"Top 10 Restaurants by Avg Cost for 2\"\n",
    "        sql_query = \"SELECT city, restaurant_name, avg_cost_for_two FROM swiggy_source ORDER BY avg_cost_for_two DESC LIMIT 10\"\n",
    "        columns = [\"City\", \"Restaurant Name\", \"Avg Cost for 2\"]\n",
    "        widths = [15, 50, 15]\n",
    "        self.execute_query(title, sql_query, columns, widths)\n",
    "\n",
    "    def query3(self):\n",
    "        self.root.withdraw()\n",
    "        title = \"Top 10 Restaurants by Avg Votes\"\n",
    "        sql_query = \"SELECT City, Restaurant_Name, AVG(Votes) AS Votes FROM swiggy_source GROUP BY Restaurant_Name, City ORDER BY Votes DESC LIMIT 10\"\n",
    "        columns = [\"City\", \"Restaurant Name\", \"Avg Votes\"]\n",
    "        widths = [15, 50, 15]\n",
    "        self.execute_query(title, sql_query, columns, widths)\n",
    "\n",
    "    def query4(self):\n",
    "        self.root.withdraw()\n",
    "        title = \"Top 10 Restaurants by Rating\"\n",
    "        sql_query = \"SELECT city City, restaurant_name `Restaurant Name`, rating_stars_out_of_5 Rating FROM swiggy_source ORDER BY city, Rating DESC LIMIT 10\"\n",
    "        columns = [\"City\", \"Restaurant Name\", \"Rating\"]\n",
    "        widths = [15, 50, 10]\n",
    "        self.execute_query(title, sql_query, columns, widths)\n",
    "\n",
    "    def query5(self):\n",
    "        self.root.withdraw()\n",
    "        title = \"Rating by Delivery Availability\"\n",
    "        sql_query = \"SELECT City, has_online_delivery `Online Delivery`, rating_stars_out_of_5 Rating FROM swiggy_source\"\n",
    "        columns = [\"City\", \"Online Delivery\", \"Rating\"]\n",
    "        widths = [15, 20, 10]\n",
    "        self.execute_query(title, sql_query, columns, widths)\n",
    "\n",
    "    def query6(self):\n",
    "        self.root.withdraw()\n",
    "        title = \"Avg Cost for 2 by Cuisine\"\n",
    "        sql_query = \"SELECT City, Cuisines Cuisine, avg_cost_for_two `Average Cost for two` FROM swiggy_source\"\n",
    "        columns = [\"City\", \"Cuisine\", \"Average Cost for two\"]\n",
    "        widths = [15, 20, 20]\n",
    "        self.execute_query(title, sql_query, columns, widths)\n",
    "\n",
    "    def execute_query(self, title, sql_query, columns, widths):\n",
    "        try:\n",
    "            self.mycursor.execute(sql_query)\n",
    "            result = self.mycursor.fetchall()\n",
    "            ResultsWindow(self, title, columns, result, widths)\n",
    "        except sql.Error as e:\n",
    "            messagebox.showerror(\"Query Error\", f\"Failed to execute query: {e}\")\n",
    "            self.show_main_window()\n",
    "\n",
    "    def close_connection(self):\n",
    "        if hasattr(self, 'mydb') and self.mydb.is_connected():\n",
    "            self.mydb.close()\n",
    "            self.mycursor.close()"
   ],
   "id": "851ab6bdb66931e5",
   "outputs": [],
   "execution_count": 2
  },
  {
   "metadata": {},
   "cell_type": "markdown",
   "source": "Output Window",
   "id": "1914d211e6620180"
  },
  {
   "metadata": {
    "ExecuteTime": {
     "end_time": "2025-06-06T06:59:34.050806Z",
     "start_time": "2025-06-06T06:59:34.044209Z"
    }
   },
   "cell_type": "code",
   "source": [
    "class ResultsWindow(tk.Toplevel):\n",
    "    def __init__(self, main_app, title, columns, data, widths):\n",
    "        tk.Toplevel.__init__(self)\n",
    "        self.main_app = main_app\n",
    "        self.title(title)\n",
    "        self.geometry(\"800x600\")\n",
    "\n",
    "        # Check if there are results to display\n",
    "        if not data:\n",
    "            tk.Label(self, text=\"No results found.\").pack(pady=20)\n",
    "        else:\n",
    "            # Create a frame for the Treeview and scrollbar\n",
    "            tree_frame = tk.Frame(self)\n",
    "            tree_frame.pack(expand=True, fill='both')\n",
    "\n",
    "            # Set up the Treeview\n",
    "            tree = ttk.Treeview(tree_frame, columns=columns, show='headings')\n",
    "            for col, width in zip(columns, widths):\n",
    "                tree.heading(col, text=col)\n",
    "                tree.column(col, width=width * 10)  # Convert characters to pixels (approx.)\n",
    "\n",
    "            # Insert data into the Treeview\n",
    "            for row in data:\n",
    "                tree.insert('', 'end', values=row)\n",
    "\n",
    "            # Add a vertical scrollbar\n",
    "            scrollbar = tk.Scrollbar(tree_frame, orient=\"vertical\", command=tree.yview)\n",
    "            tree.configure(yscrollcommand=scrollbar.set)\n",
    "            tree.pack(side='left', expand=True, fill='both')\n",
    "            scrollbar.pack(side='right', fill='y')\n",
    "\n",
    "        # Add a back button\n",
    "        back_button = tk.Button(self, text=\"Back\", command=self.go_back)\n",
    "        back_button.pack(pady=10)\n",
    "\n",
    "        # Handle window close event\n",
    "        self.protocol(\"WM_DELETE_WINDOW\", self.go_back)\n",
    "\n",
    "    def go_back(self):\n",
    "        self.destroy()\n",
    "        self.main_app.show_main_window()"
   ],
   "id": "397baf9cf580e9e7",
   "outputs": [],
   "execution_count": 3
  },
  {
   "metadata": {
    "ExecuteTime": {
     "end_time": "2025-06-06T07:01:42.188969Z",
     "start_time": "2025-06-06T07:00:20.963272Z"
    }
   },
   "cell_type": "code",
   "source": [
    "if __name__ == \"__main__\":\n",
    "    root = tk.Tk()\n",
    "    app = SwiggyApp(root)\n",
    "    root.protocol(\"WM_DELETE_WINDOW\", lambda: [app.close_connection(), root.destroy()])\n",
    "    root.mainloop()"
   ],
   "id": "d679c3e7cfb97972",
   "outputs": [],
   "execution_count": 5
  }
 ],
 "metadata": {
  "kernelspec": {
   "display_name": "Python 3",
   "language": "python",
   "name": "python3"
  },
  "language_info": {
   "codemirror_mode": {
    "name": "ipython",
    "version": 2
   },
   "file_extension": ".py",
   "mimetype": "text/x-python",
   "name": "python",
   "nbconvert_exporter": "python",
   "pygments_lexer": "ipython2",
   "version": "2.7.6"
  }
 },
 "nbformat": 4,
 "nbformat_minor": 5
}
